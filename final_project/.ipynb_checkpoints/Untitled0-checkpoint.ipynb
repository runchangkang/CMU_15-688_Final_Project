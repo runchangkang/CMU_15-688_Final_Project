{
 "cells": [
  {
   "cell_type": "markdown",
   "metadata": {
    "colab_type": "text",
    "id": "GpWZZceOF0M9"
   },
   "source": [
    "## Data Collection\n"
   ]
  },
  {
   "cell_type": "code",
   "execution_count": 1,
   "metadata": {
    "colab": {
     "autoexec": {
      "startup": false,
      "wait_interval": 0
     }
    },
    "colab_type": "code",
    "id": "gk9mJ8dMEmB-"
   },
   "outputs": [],
   "source": [
    "import requests\n",
    "from bs4 import BeautifulSoup\n",
    "\n",
    "import pandas as pd\n",
    "import numpy as np\n",
    "import matplotlib.pyplot as plt"
   ]
  },
  {
   "cell_type": "code",
   "execution_count": 79,
   "metadata": {
    "colab": {
     "autoexec": {
      "startup": false,
      "wait_interval": 0
     }
    },
    "colab_type": "code",
    "id": "yqT4TpbRF3yd"
   },
   "outputs": [],
   "source": [
    "# TEAM_NAMES=[\"ATL\"]\n",
    "TEAM_NAMES=[\"ATL\",\"BOS\",\"BRK\",\"NJN\",\"CHA\",\"CHH\",\"CHO\",\"CHI\",\"CLE\",\"DAL\",\"DEN\",\"DET\",\"GSW\",\"HOU\",\"IND\",\"LAC\",\"LAL\",\"MEM\",\"VAN\",\"MIA\",\"MIL\",\"MIN\",\"NOP\",\"NOH\",\"NOK\",\"NYK\",\"OKC\",\"SEA\",\"ORL\",\"PHI\",\"PHX\",\"POR\",\"SAC\",\"SAS\",\"TOR\",\"UTA\", \"WSB\",\"WAS\"]"
   ]
  },
  {
   "cell_type": "code",
   "execution_count": 68,
   "metadata": {
    "colab": {
     "autoexec": {
      "startup": false,
      "wait_interval": 0
     }
    },
    "colab_type": "code",
    "id": "Zu4QQfY1G74R"
   },
   "outputs": [],
   "source": [
    "YEARS=[\"%s\" %x for x in range(1995,2017)]\n",
    "# YEARS = [\"2017\"]"
   ]
  },
  {
   "cell_type": "code",
   "execution_count": 7,
   "metadata": {
    "colab": {
     "autoexec": {
      "startup": false,
      "wait_interval": 0
     }
    },
    "colab_type": "code",
    "id": "M9YICVrDJatt"
   },
   "outputs": [],
   "source": [
    "BASE_TEAM_URL= \"https://www.basketball-reference.com/teams\""
   ]
  },
  {
   "cell_type": "code",
   "execution_count": null,
   "metadata": {},
   "outputs": [],
   "source": []
  },
  {
   "cell_type": "code",
   "execution_count": 80,
   "metadata": {},
   "outputs": [],
   "source": [
    "TEAM_INDEX={\"ATL\":0,\n",
    " \"BOS\":1,\n",
    " \"BRK\":2,\"NJN\":2,\n",
    " \"CHA\":3,\"CHH\":3,\"CHO\":3,\n",
    " \"CHI\":4,\n",
    " \"CLE\":5,\n",
    " \"DAL\":6,\n",
    " \"DEN\":7,\n",
    "\"DET\":8,\n",
    "\"GSW\":9,\n",
    "\"HOU\":10,\n",
    "\"IND\":11,\n",
    "\"LAC\":12,\n",
    "\"LAL\":13,\n",
    "\"MEM\":14,\"VAN\":14,\n",
    "\"MIA\":15,\n",
    "\"MIL\":16,\n",
    "\"MIN\":17,\n",
    "\"NOH\":18,\"NOK\":18,\"NOP\":18,\n",
    "\"NYK\":19,\n",
    " \"SEA\":20,\"OKC\":20,\n",
    " \"ORL\":21,\n",
    " \"PHI\":22,\n",
    " \"PHO\":23,\n",
    " \"POR\":24,\n",
    " \"SAC\":25,\n",
    " \"SAS\":26,\n",
    " \"TOR\":27,\n",
    " \"UTA\":28,\n",
    " \"WSB\":29,\"WAS\":29}\n"
   ]
  },
  {
   "cell_type": "code",
   "execution_count": 85,
   "metadata": {},
   "outputs": [],
   "source": [
    "# basicDf = pd.DataFrame(columns = [\"teamIndex\",\"gameDate\",\"result\",\"FG\",\"FGA\",\"3P\",\"3PA\",\"FT\",\"FTA\",\"ORB\",\"DRB\",\"AST\",\"STL\",\"BLK\",\"TOV\",\"PF\",\"PTS\"])\n",
    "# advancedDf = pd.DataFrame(columns = [\"teamIndex\",\"gameDate\",\"result\",\"TS%\",\"eFG%\",\"3PAr\",\"FTr\",\"ORB%\",\"DRB%\",\"TRB%\",\"AST%\",\"STL%\",\"BLK%\",\"TOV%\",\"USB%\",\"ORtg\",\"DRtg\"])\n",
    "\n",
    "\n",
    "\n",
    "def createNewDataframes():\n",
    "    return (pd.DataFrame(columns = [\"teamIndex\",\"oppoIndex\",\"gameDate\",\"result\",\"FG\",\"FGA\",\"3P\",\"3PA\",\"FT\",\"FTA\",\"ORB\",\"DRB\",\"AST\",\"STL\",\"BLK\",\"TOV\",\"PF\",\"PTS\"]),\n",
    "           pd.DataFrame(columns = [\"teamIndex\",\"oppoIndex\",\"gameDate\",\"result\",\"TS%\",\"eFG%\",\"3PAr\",\"FTr\",\"ORB%\",\"DRB%\",\"TRB%\",\"AST%\",\"STL%\",\"BLK%\",\"TOV%\",\"USB%\",\"ORtg\",\"DRtg\"]))\n",
    "\n",
    "\n"
   ]
  },
  {
   "cell_type": "code",
   "execution_count": 86,
   "metadata": {
    "colab": {
     "autoexec": {
      "startup": false,
      "wait_interval": 0
     }
    },
    "colab_type": "code",
    "id": "kC_hC5YbJ7Yr",
    "scrolled": false
   },
   "outputs": [
    {
     "name": "stdout",
     "output_type": "stream",
     "text": [
      "https://www.basketball-reference.com/teams/ATL/1995_games.html\n",
      "https://www.basketball-reference.com/teams/ATL/1996_games.html\n"
     ]
    },
    {
     "ename": "KeyboardInterrupt",
     "evalue": "",
     "output_type": "error",
     "traceback": [
      "\u001b[0;31m---------------------------------------------------------------------------\u001b[0m",
      "\u001b[0;31mKeyboardInterrupt\u001b[0m                         Traceback (most recent call last)",
      "\u001b[0;32m<ipython-input-86-0851337ba0af>\u001b[0m in \u001b[0;36m<module>\u001b[0;34m()\u001b[0m\n\u001b[1;32m     45\u001b[0m             \u001b[0madvancedList\u001b[0m \u001b[0;34m=\u001b[0m \u001b[0;34m[\u001b[0m\u001b[0mTEAM_INDEX\u001b[0m\u001b[0;34m[\u001b[0m\u001b[0mteam\u001b[0m\u001b[0;34m]\u001b[0m\u001b[0;34m,\u001b[0m\u001b[0mTEAM_INDEX\u001b[0m\u001b[0;34m[\u001b[0m\u001b[0moppoList\u001b[0m\u001b[0;34m[\u001b[0m\u001b[0mindex\u001b[0m\u001b[0;34m]\u001b[0m\u001b[0;34m]\u001b[0m\u001b[0;34m,\u001b[0m\u001b[0mdate\u001b[0m\u001b[0;34m,\u001b[0m\u001b[0mwinList\u001b[0m\u001b[0;34m[\u001b[0m\u001b[0mindex\u001b[0m\u001b[0;34m]\u001b[0m\u001b[0;34m]\u001b[0m\u001b[0;34m\u001b[0m\u001b[0m\n\u001b[1;32m     46\u001b[0m             \u001b[0mnewResponse\u001b[0m \u001b[0;34m=\u001b[0m \u001b[0mrequests\u001b[0m\u001b[0;34m.\u001b[0m\u001b[0mget\u001b[0m\u001b[0;34m(\u001b[0m\u001b[0mnewUrl\u001b[0m\u001b[0;34m)\u001b[0m\u001b[0;34m\u001b[0m\u001b[0m\n\u001b[0;32m---> 47\u001b[0;31m             \u001b[0mtmpRoot\u001b[0m \u001b[0;34m=\u001b[0m \u001b[0mBeautifulSoup\u001b[0m\u001b[0;34m(\u001b[0m\u001b[0mnewResponse\u001b[0m\u001b[0;34m.\u001b[0m\u001b[0mtext\u001b[0m\u001b[0;34m,\u001b[0m\u001b[0;34m\"html5lib\"\u001b[0m\u001b[0;34m)\u001b[0m\u001b[0;34m\u001b[0m\u001b[0m\n\u001b[0m\u001b[1;32m     48\u001b[0m             \u001b[0midString\u001b[0m \u001b[0;34m=\u001b[0m \u001b[0;34m\"all_box_%s_basic\"\u001b[0m \u001b[0;34m%\u001b[0m \u001b[0mteam\u001b[0m\u001b[0;34m.\u001b[0m\u001b[0mlower\u001b[0m\u001b[0;34m(\u001b[0m\u001b[0;34m)\u001b[0m\u001b[0;34m\u001b[0m\u001b[0m\n\u001b[1;32m     49\u001b[0m             \u001b[0mtmpItem\u001b[0m \u001b[0;34m=\u001b[0m \u001b[0mtmpRoot\u001b[0m\u001b[0;34m.\u001b[0m\u001b[0mfind\u001b[0m\u001b[0;34m(\u001b[0m\u001b[0;34m\"div\"\u001b[0m\u001b[0;34m,\u001b[0m\u001b[0mattrs\u001b[0m\u001b[0;34m=\u001b[0m\u001b[0;34m{\u001b[0m\u001b[0;34m\"id\"\u001b[0m\u001b[0;34m:\u001b[0m\u001b[0midString\u001b[0m\u001b[0;34m}\u001b[0m\u001b[0;34m)\u001b[0m\u001b[0;34m.\u001b[0m\u001b[0mfind\u001b[0m\u001b[0;34m(\u001b[0m\u001b[0;34m\"tfoot\"\u001b[0m\u001b[0;34m)\u001b[0m\u001b[0;34m\u001b[0m\u001b[0m\n",
      "\u001b[0;32m/anaconda3/lib/python3.6/site-packages/bs4/__init__.py\u001b[0m in \u001b[0;36m__init__\u001b[0;34m(self, markup, features, builder, parse_only, from_encoding, exclude_encodings, **kwargs)\u001b[0m\n\u001b[1;32m    226\u001b[0m             \u001b[0mself\u001b[0m\u001b[0;34m.\u001b[0m\u001b[0mreset\u001b[0m\u001b[0;34m(\u001b[0m\u001b[0;34m)\u001b[0m\u001b[0;34m\u001b[0m\u001b[0m\n\u001b[1;32m    227\u001b[0m             \u001b[0;32mtry\u001b[0m\u001b[0;34m:\u001b[0m\u001b[0;34m\u001b[0m\u001b[0m\n\u001b[0;32m--> 228\u001b[0;31m                 \u001b[0mself\u001b[0m\u001b[0;34m.\u001b[0m\u001b[0m_feed\u001b[0m\u001b[0;34m(\u001b[0m\u001b[0;34m)\u001b[0m\u001b[0;34m\u001b[0m\u001b[0m\n\u001b[0m\u001b[1;32m    229\u001b[0m                 \u001b[0;32mbreak\u001b[0m\u001b[0;34m\u001b[0m\u001b[0m\n\u001b[1;32m    230\u001b[0m             \u001b[0;32mexcept\u001b[0m \u001b[0mParserRejectedMarkup\u001b[0m\u001b[0;34m:\u001b[0m\u001b[0;34m\u001b[0m\u001b[0m\n",
      "\u001b[0;32m/anaconda3/lib/python3.6/site-packages/bs4/__init__.py\u001b[0m in \u001b[0;36m_feed\u001b[0;34m(self)\u001b[0m\n\u001b[1;32m    287\u001b[0m         \u001b[0mself\u001b[0m\u001b[0;34m.\u001b[0m\u001b[0mbuilder\u001b[0m\u001b[0;34m.\u001b[0m\u001b[0mreset\u001b[0m\u001b[0;34m(\u001b[0m\u001b[0;34m)\u001b[0m\u001b[0;34m\u001b[0m\u001b[0m\n\u001b[1;32m    288\u001b[0m \u001b[0;34m\u001b[0m\u001b[0m\n\u001b[0;32m--> 289\u001b[0;31m         \u001b[0mself\u001b[0m\u001b[0;34m.\u001b[0m\u001b[0mbuilder\u001b[0m\u001b[0;34m.\u001b[0m\u001b[0mfeed\u001b[0m\u001b[0;34m(\u001b[0m\u001b[0mself\u001b[0m\u001b[0;34m.\u001b[0m\u001b[0mmarkup\u001b[0m\u001b[0;34m)\u001b[0m\u001b[0;34m\u001b[0m\u001b[0m\n\u001b[0m\u001b[1;32m    290\u001b[0m         \u001b[0;31m# Close out any unfinished strings and close all the open tags.\u001b[0m\u001b[0;34m\u001b[0m\u001b[0;34m\u001b[0m\u001b[0m\n\u001b[1;32m    291\u001b[0m         \u001b[0mself\u001b[0m\u001b[0;34m.\u001b[0m\u001b[0mendData\u001b[0m\u001b[0;34m(\u001b[0m\u001b[0;34m)\u001b[0m\u001b[0;34m\u001b[0m\u001b[0m\n",
      "\u001b[0;32m/anaconda3/lib/python3.6/site-packages/bs4/builder/_html5lib.py\u001b[0m in \u001b[0;36mfeed\u001b[0;34m(self, markup)\u001b[0m\n\u001b[1;32m     70\u001b[0m             \u001b[0;32melse\u001b[0m\u001b[0;34m:\u001b[0m\u001b[0;34m\u001b[0m\u001b[0m\n\u001b[1;32m     71\u001b[0m                 \u001b[0mextra_kwargs\u001b[0m\u001b[0;34m[\u001b[0m\u001b[0;34m'encoding'\u001b[0m\u001b[0;34m]\u001b[0m \u001b[0;34m=\u001b[0m \u001b[0mself\u001b[0m\u001b[0;34m.\u001b[0m\u001b[0muser_specified_encoding\u001b[0m\u001b[0;34m\u001b[0m\u001b[0m\n\u001b[0;32m---> 72\u001b[0;31m         \u001b[0mdoc\u001b[0m \u001b[0;34m=\u001b[0m \u001b[0mparser\u001b[0m\u001b[0;34m.\u001b[0m\u001b[0mparse\u001b[0m\u001b[0;34m(\u001b[0m\u001b[0mmarkup\u001b[0m\u001b[0;34m,\u001b[0m \u001b[0;34m**\u001b[0m\u001b[0mextra_kwargs\u001b[0m\u001b[0;34m)\u001b[0m\u001b[0;34m\u001b[0m\u001b[0m\n\u001b[0m\u001b[1;32m     73\u001b[0m \u001b[0;34m\u001b[0m\u001b[0m\n\u001b[1;32m     74\u001b[0m         \u001b[0;31m# Set the character encoding detected by the tokenizer.\u001b[0m\u001b[0;34m\u001b[0m\u001b[0;34m\u001b[0m\u001b[0m\n",
      "\u001b[0;32m/anaconda3/lib/python3.6/site-packages/html5lib/html5parser.py\u001b[0m in \u001b[0;36mparse\u001b[0;34m(self, stream, *args, **kwargs)\u001b[0m\n\u001b[1;32m    287\u001b[0m \u001b[0;34m\u001b[0m\u001b[0m\n\u001b[1;32m    288\u001b[0m         \"\"\"\n\u001b[0;32m--> 289\u001b[0;31m         \u001b[0mself\u001b[0m\u001b[0;34m.\u001b[0m\u001b[0m_parse\u001b[0m\u001b[0;34m(\u001b[0m\u001b[0mstream\u001b[0m\u001b[0;34m,\u001b[0m \u001b[0;32mFalse\u001b[0m\u001b[0;34m,\u001b[0m \u001b[0;32mNone\u001b[0m\u001b[0;34m,\u001b[0m \u001b[0;34m*\u001b[0m\u001b[0margs\u001b[0m\u001b[0;34m,\u001b[0m \u001b[0;34m**\u001b[0m\u001b[0mkwargs\u001b[0m\u001b[0;34m)\u001b[0m\u001b[0;34m\u001b[0m\u001b[0m\n\u001b[0m\u001b[1;32m    290\u001b[0m         \u001b[0;32mreturn\u001b[0m \u001b[0mself\u001b[0m\u001b[0;34m.\u001b[0m\u001b[0mtree\u001b[0m\u001b[0;34m.\u001b[0m\u001b[0mgetDocument\u001b[0m\u001b[0;34m(\u001b[0m\u001b[0;34m)\u001b[0m\u001b[0;34m\u001b[0m\u001b[0m\n\u001b[1;32m    291\u001b[0m \u001b[0;34m\u001b[0m\u001b[0m\n",
      "\u001b[0;32m/anaconda3/lib/python3.6/site-packages/html5lib/html5parser.py\u001b[0m in \u001b[0;36m_parse\u001b[0;34m(self, stream, innerHTML, container, scripting, **kwargs)\u001b[0m\n\u001b[1;32m    132\u001b[0m \u001b[0;34m\u001b[0m\u001b[0m\n\u001b[1;32m    133\u001b[0m         \u001b[0;32mtry\u001b[0m\u001b[0;34m:\u001b[0m\u001b[0;34m\u001b[0m\u001b[0m\n\u001b[0;32m--> 134\u001b[0;31m             \u001b[0mself\u001b[0m\u001b[0;34m.\u001b[0m\u001b[0mmainLoop\u001b[0m\u001b[0;34m(\u001b[0m\u001b[0;34m)\u001b[0m\u001b[0;34m\u001b[0m\u001b[0m\n\u001b[0m\u001b[1;32m    135\u001b[0m         \u001b[0;32mexcept\u001b[0m \u001b[0m_ReparseException\u001b[0m\u001b[0;34m:\u001b[0m\u001b[0;34m\u001b[0m\u001b[0m\n\u001b[1;32m    136\u001b[0m             \u001b[0mself\u001b[0m\u001b[0;34m.\u001b[0m\u001b[0mreset\u001b[0m\u001b[0;34m(\u001b[0m\u001b[0;34m)\u001b[0m\u001b[0;34m\u001b[0m\u001b[0m\n",
      "\u001b[0;32m/anaconda3/lib/python3.6/site-packages/html5lib/html5parser.py\u001b[0m in \u001b[0;36mmainLoop\u001b[0;34m(self)\u001b[0m\n\u001b[1;32m    203\u001b[0m         \u001b[0mParseErrorToken\u001b[0m \u001b[0;34m=\u001b[0m \u001b[0mtokenTypes\u001b[0m\u001b[0;34m[\u001b[0m\u001b[0;34m\"ParseError\"\u001b[0m\u001b[0;34m]\u001b[0m\u001b[0;34m\u001b[0m\u001b[0m\n\u001b[1;32m    204\u001b[0m \u001b[0;34m\u001b[0m\u001b[0m\n\u001b[0;32m--> 205\u001b[0;31m         \u001b[0;32mfor\u001b[0m \u001b[0mtoken\u001b[0m \u001b[0;32min\u001b[0m \u001b[0mself\u001b[0m\u001b[0;34m.\u001b[0m\u001b[0mnormalizedTokens\u001b[0m\u001b[0;34m(\u001b[0m\u001b[0;34m)\u001b[0m\u001b[0;34m:\u001b[0m\u001b[0;34m\u001b[0m\u001b[0m\n\u001b[0m\u001b[1;32m    206\u001b[0m             \u001b[0mprev_token\u001b[0m \u001b[0;34m=\u001b[0m \u001b[0;32mNone\u001b[0m\u001b[0;34m\u001b[0m\u001b[0m\n\u001b[1;32m    207\u001b[0m             \u001b[0mnew_token\u001b[0m \u001b[0;34m=\u001b[0m \u001b[0mtoken\u001b[0m\u001b[0;34m\u001b[0m\u001b[0m\n",
      "\u001b[0;32m/anaconda3/lib/python3.6/site-packages/html5lib/html5parser.py\u001b[0m in \u001b[0;36mnormalizedTokens\u001b[0;34m(self)\u001b[0m\n\u001b[1;32m    263\u001b[0m     \u001b[0;32mdef\u001b[0m \u001b[0mnormalizedTokens\u001b[0m\u001b[0;34m(\u001b[0m\u001b[0mself\u001b[0m\u001b[0;34m)\u001b[0m\u001b[0;34m:\u001b[0m\u001b[0;34m\u001b[0m\u001b[0m\n\u001b[1;32m    264\u001b[0m         \u001b[0;32mfor\u001b[0m \u001b[0mtoken\u001b[0m \u001b[0;32min\u001b[0m \u001b[0mself\u001b[0m\u001b[0;34m.\u001b[0m\u001b[0mtokenizer\u001b[0m\u001b[0;34m:\u001b[0m\u001b[0;34m\u001b[0m\u001b[0m\n\u001b[0;32m--> 265\u001b[0;31m             \u001b[0;32myield\u001b[0m \u001b[0mself\u001b[0m\u001b[0;34m.\u001b[0m\u001b[0mnormalizeToken\u001b[0m\u001b[0;34m(\u001b[0m\u001b[0mtoken\u001b[0m\u001b[0;34m)\u001b[0m\u001b[0;34m\u001b[0m\u001b[0m\n\u001b[0m\u001b[1;32m    266\u001b[0m \u001b[0;34m\u001b[0m\u001b[0m\n\u001b[1;32m    267\u001b[0m     \u001b[0;32mdef\u001b[0m \u001b[0mparse\u001b[0m\u001b[0;34m(\u001b[0m\u001b[0mself\u001b[0m\u001b[0;34m,\u001b[0m \u001b[0mstream\u001b[0m\u001b[0;34m,\u001b[0m \u001b[0;34m*\u001b[0m\u001b[0margs\u001b[0m\u001b[0;34m,\u001b[0m \u001b[0;34m**\u001b[0m\u001b[0mkwargs\u001b[0m\u001b[0;34m)\u001b[0m\u001b[0;34m:\u001b[0m\u001b[0;34m\u001b[0m\u001b[0m\n",
      "\u001b[0;32m/anaconda3/lib/python3.6/site-packages/html5lib/html5parser.py\u001b[0m in \u001b[0;36mnormalizeToken\u001b[0;34m(self, token)\u001b[0m\n\u001b[1;32m    330\u001b[0m         \u001b[0;32mif\u001b[0m \u001b[0mtoken\u001b[0m\u001b[0;34m[\u001b[0m\u001b[0;34m\"type\"\u001b[0m\u001b[0;34m]\u001b[0m \u001b[0;34m==\u001b[0m \u001b[0mtokenTypes\u001b[0m\u001b[0;34m[\u001b[0m\u001b[0;34m\"StartTag\"\u001b[0m\u001b[0;34m]\u001b[0m\u001b[0;34m:\u001b[0m\u001b[0;34m\u001b[0m\u001b[0m\n\u001b[1;32m    331\u001b[0m             \u001b[0mraw\u001b[0m \u001b[0;34m=\u001b[0m \u001b[0mtoken\u001b[0m\u001b[0;34m[\u001b[0m\u001b[0;34m\"data\"\u001b[0m\u001b[0;34m]\u001b[0m\u001b[0;34m\u001b[0m\u001b[0m\n\u001b[0;32m--> 332\u001b[0;31m             \u001b[0mtoken\u001b[0m\u001b[0;34m[\u001b[0m\u001b[0;34m\"data\"\u001b[0m\u001b[0;34m]\u001b[0m \u001b[0;34m=\u001b[0m \u001b[0mOrderedDict\u001b[0m\u001b[0;34m(\u001b[0m\u001b[0mraw\u001b[0m\u001b[0;34m)\u001b[0m\u001b[0;34m\u001b[0m\u001b[0m\n\u001b[0m\u001b[1;32m    333\u001b[0m             \u001b[0;32mif\u001b[0m \u001b[0mlen\u001b[0m\u001b[0;34m(\u001b[0m\u001b[0mraw\u001b[0m\u001b[0;34m)\u001b[0m \u001b[0;34m>\u001b[0m \u001b[0mlen\u001b[0m\u001b[0;34m(\u001b[0m\u001b[0mtoken\u001b[0m\u001b[0;34m[\u001b[0m\u001b[0;34m\"data\"\u001b[0m\u001b[0;34m]\u001b[0m\u001b[0;34m)\u001b[0m\u001b[0;34m:\u001b[0m\u001b[0;34m\u001b[0m\u001b[0m\n\u001b[1;32m    334\u001b[0m                 \u001b[0;31m# we had some duplicated attribute, fix so first wins\u001b[0m\u001b[0;34m\u001b[0m\u001b[0;34m\u001b[0m\u001b[0m\n",
      "\u001b[0;31mKeyboardInterrupt\u001b[0m: "
     ]
    }
   ],
   "source": [
    "\n",
    "for team in TEAM_NAMES:\n",
    "    basicDf,advancedDf = createNewDataframes()\n",
    "    for year in YEARS:\n",
    "        \n",
    "        url = BASE_TEAM_URL +\"/\"+team+\"/\"+year+\"_games.html\"\n",
    "        print(url)\n",
    "        response = requests.get(url)\n",
    "        root = BeautifulSoup(response.text,\"html5lib\")\n",
    "        items = root.find_all(\"td\",attrs={\"data-stat\": \"box_score_text\",\"class\":\"center\"})\n",
    "        winList = []\n",
    "        if items == None:\n",
    "            continue\n",
    "        #get results\n",
    "        winItems = root.find_all(\"td\",attrs={\"data-stat\": \"game_result\",\"class\":\"center\"})\n",
    "        winList = []\n",
    "        for i in winItems:\n",
    "            if i.text==\"W\":\n",
    "                winList.append(1)\n",
    "            elif i.text ==\"L\":\n",
    "                winList.append(0)\n",
    "        \n",
    "        if len(items)!= len(winList):\n",
    "            print(\"mismatch!\")\n",
    "        #get opponents:\n",
    "        #get results\n",
    "        oppoList = []\n",
    "        oppoItems = root.find_all(\"td\",attrs={\"data-stat\": \"opp_name\",\"class\":\"left\"})\n",
    "        \n",
    "        \n",
    "        for i in oppoItems:\n",
    "            tmp = i[\"csk\"][:3]\n",
    "            if tmp != None:\n",
    "                oppoList.append(tmp)\n",
    "            else:\n",
    "                print(\"here is a none!\")\n",
    "        \n",
    "        if len(items)!= len(winList):\n",
    "            print(\"mismatch!\")\n",
    "        for index,item in enumerate(items):\n",
    "#             item.a[\"href\"]\n",
    "            newUrl = BASE_TEAM_URL[:-6]+item.a[\"href\"]\n",
    "            date = item.a[\"href\"][11:19]\n",
    "            basicList = [TEAM_INDEX[team],TEAM_INDEX[oppoList[index]],date,winList[index]]\n",
    "            advancedList = [TEAM_INDEX[team],TEAM_INDEX[oppoList[index]],date,winList[index]]\n",
    "            newResponse = requests.get(newUrl)\n",
    "            tmpRoot = BeautifulSoup(newResponse.text,\"html5lib\")\n",
    "            idString = \"all_box_%s_basic\" % team.lower()\n",
    "            tmpItem = tmpRoot.find(\"div\",attrs={\"id\":idString}).find(\"tfoot\")\n",
    "            basicList.append(tmpItem.find(\"td\",attrs={\"data-stat\":\"fg\"}).text)\n",
    "            basicList.append(tmpItem.find(\"td\",attrs={\"data-stat\":\"fga\"}).text)\n",
    "            basicList.append(tmpItem.find(\"td\",attrs={\"data-stat\":\"fg3\"}).text)\n",
    "            basicList.append(tmpItem.find(\"td\",attrs={\"data-stat\":\"fg3a\"}).text)\n",
    "            basicList.append(tmpItem.find(\"td\",attrs={\"data-stat\":\"ft\"}).text)\n",
    "            basicList.append(tmpItem.find(\"td\",attrs={\"data-stat\":\"fta\"}).text)\n",
    "            basicList.append(tmpItem.find(\"td\",attrs={\"data-stat\":\"orb\"}).text)\n",
    "            basicList.append(tmpItem.find(\"td\",attrs={\"data-stat\":\"drb\"}).text)\n",
    "            basicList.append(tmpItem.find(\"td\",attrs={\"data-stat\":\"ast\"}).text)\n",
    "            basicList.append(tmpItem.find(\"td\",attrs={\"data-stat\":\"stl\"}).text)\n",
    "            basicList.append(tmpItem.find(\"td\",attrs={\"data-stat\":\"blk\"}).text)\n",
    "            basicList.append(tmpItem.find(\"td\",attrs={\"data-stat\":\"tov\"}).text)\n",
    "            basicList.append(tmpItem.find(\"td\",attrs={\"data-stat\":\"pf\"}).text)\n",
    "            basicList.append(tmpItem.find(\"td\",attrs={\"data-stat\":\"pts\"}).text)\n",
    "            basicDf.loc[basicDf.shape[0]] = basicList\n",
    "            \n",
    "            \n",
    "\n",
    "            idString = \"all_box_%s_advanced\" % team.lower()\n",
    "            tmpItem = tmpRoot.find(\"div\",attrs={\"id\":idString}).find(\"tfoot\")\n",
    "            advancedList.append(tmpItem.find(\"td\",attrs={\"data-stat\":\"ts_pct\"}).text)\n",
    "            advancedList.append(tmpItem.find(\"td\",attrs={\"data-stat\":\"efg_pct\"}).text)\n",
    "            advancedList.append(tmpItem.find(\"td\",attrs={\"data-stat\":\"fg3a_per_fga_pct\"}).text)\n",
    "            advancedList.append(tmpItem.find(\"td\",attrs={\"data-stat\":\"fta_per_fga_pct\"}).text)\n",
    "            advancedList.append(tmpItem.find(\"td\",attrs={\"data-stat\":\"orb_pct\"}).text)\n",
    "            advancedList.append(tmpItem.find(\"td\",attrs={\"data-stat\":\"drb_pct\"}).text)\n",
    "            advancedList.append(tmpItem.find(\"td\",attrs={\"data-stat\":\"trb_pct\"}).text)\n",
    "            advancedList.append(tmpItem.find(\"td\",attrs={\"data-stat\":\"ast_pct\"}).text)\n",
    "            advancedList.append(tmpItem.find(\"td\",attrs={\"data-stat\":\"stl_pct\"}).text)\n",
    "            advancedList.append(tmpItem.find(\"td\",attrs={\"data-stat\":\"blk_pct\"}).text)\n",
    "            advancedList.append(tmpItem.find(\"td\",attrs={\"data-stat\":\"tov_pct\"}).text)\n",
    "            advancedList.append(tmpItem.find(\"td\",attrs={\"data-stat\":\"usg_pct\"}).text)\n",
    "            advancedList.append(tmpItem.find(\"td\",attrs={\"data-stat\":\"off_rtg\"}).text)\n",
    "            advancedList.append(tmpItem.find(\"td\",attrs={\"data-stat\":\"def_rtg\"}).text)\n",
    "#             print(advancedDf)\n",
    "#             print(advancedList)\n",
    "            advancedDf.loc[advancedDf.shape[0]] = advancedList\n",
    "        basicName = \"%s_basic_data.pickle\"%team\n",
    "        advancedName = \"%s_advanced_data.pickle\"%team\n",
    "        basicDf.to_pickle(basicName)\n",
    "        advancedDf.to_pickle(advancedName)\n",
    "         \n",
    "            #basic stat[teamIndex,gameDate,FG,FGA,3P,3PA,ORB,DRB,AST,STL,BLK,TOV,PF,PTS]\n",
    "            #advanced stat[teamIndex,gameDate,TS%,eFG%,3PAr,FTr,ORB%,DRB%,TRB%,AST%,STL%,BLK%,TOV%,USB%,ORtg，DRtg]\n",
    "# basicDf.to_pickle(\"basic_data.pickle\")\n",
    "# advancedDf.to_pickle(\"advanced_data.pickle\")\n",
    "#             print(root.find(\"div\",attrs={\"class\": \"box\",\"id\":\"content\",\"role\":\"main\"}).h1)"
   ]
  },
  {
   "cell_type": "code",
   "execution_count": 88,
   "metadata": {},
   "outputs": [],
   "source": [
    "df = pd.read_pickle(\"ATL_basic_data.pickle\")"
   ]
  },
  {
   "cell_type": "code",
   "execution_count": 89,
   "metadata": {},
   "outputs": [
    {
     "name": "stdout",
     "output_type": "stream",
     "text": [
      "   teamIndex oppoIndex  gameDate result  FG  FGA  3P 3PA  FT FTA ORB DRB AST  \\\n",
      "0          0        11  19941104      0  28   77   3  12  33  49  17  30  21   \n",
      "1          0         8  19941105      0  41   93   8  22  19  26  13  32  32   \n",
      "2          0        28  19941107      0  35   83   2  20  14  16  11  26  20   \n",
      "3          0        23  19941109      0  41   88   6  21  14  19  16  18  30   \n",
      "4          0        12  19941110      1  36   70   5  11  31  42   8  26  16   \n",
      "5          0        25  19941112      0  31   69   4  17  31  41  12  25  14   \n",
      "6          0         1  19941115      1  41   82   6  15  22  29  12  33  31   \n",
      "7          0        16  19941118      0  38   88   5  19  12  18  18  34  24   \n",
      "8          0        19  19941119      0  28   81   3  15  20  28  17  31  17   \n",
      "9          0        22  19941122      1  38   78   3   9  23  27  16  29  23   \n",
      "10         0        17  19941123      1  30   78   4  15  25  31  13  30  17   \n",
      "11         0        13  19941125      0  33   84   5  18  16  20  15  29  23   \n",
      "12         0         3  19941129      0  35   80   6  21   9  10   8  23  27   \n",
      "13         0         4  19941202      1  28   60   2   5  34  42  10  25  19   \n",
      "14         0        21  19941203      1  45   83   8  12   9  15   9  22  25   \n",
      "15         0         2  19941206      1  41   90   2   7  10  16  12  28  22   \n",
      "16         0         1  19941207      0  33   83   3  11  11  16  10  27  19   \n",
      "17         0        19  19941209      1  32   81   2   7  23  31  16  33  16   \n",
      "18         0        21  19941210      0  37   86   7  19  17  23  18  25  25   \n",
      "19         0        17  19941213      1  33   87   4  16  15  22  21  31  21   \n",
      "20         0        11  19941214      0  32   73   7  17   8  11   8  25  16   \n",
      "21         0         4  19941216      0  34   76   2  14  10  14  15  25  19   \n",
      "22         0        15  19941217      0  31   77   5  24  18  26  10  30  18   \n",
      "23         0        16  19941220      1  44   77   9  16  18  31  13  30  27   \n",
      "24         0        28  19941222      0  37   79   9  23  11  21  16  25  23   \n",
      "25         0         8  19941223      1  38   79   5  17  16  23  13  29  21   \n",
      "26         0        10  19941227      0  35   88  12  27  11  16  13  28  23   \n",
      "27         0        26  19941229      1  47   93   7  22  26  35  15  27  26   \n",
      "28         0         5  19941230      0  29   73   5  16  22  26  15  18  19   \n",
      "29         0        24  19950103      0  36   81   4  14  22  33  11  31  23   \n",
      "..       ...       ...       ...    ...  ..  ...  ..  ..  ..  ..  ..  ..  ..   \n",
      "55         0        16  19950302      0  36   72   8  22  13  15   6  26  26   \n",
      "56         0         8  19950303      1  36   84   4  23  18  26  17  27  19   \n",
      "57         0        21  19950305      0  41  100   9  24  20  23  14  33  24   \n",
      "58         0         7  19950308      1  38   83   6  18  17  23  20  29  18   \n",
      "59         0        19  19950310      1  40   87  14  29  14  16  12  35  27   \n",
      "60         0         1  19950312      1  37   83   8  21  22  32  20  26  20   \n",
      "61         0        10  19950313      0  30   83  10  30  16  27  15  26  21   \n",
      "62         0         4  19950315      0  32   77   9  23  13  16  13  25  18   \n",
      "63         0        23  19950318      1  41   90  12  30  28  38  15  30  24   \n",
      "64         0        12  19950320      1  37   75   7  18  25  32  13  25  17   \n",
      "65         0        15  19950322      0  33   86   4  24  14  21  15  23  18   \n",
      "66         0         5  19950324      0  29   70   6  25  10  11   8  34  19   \n",
      "67         0         4  19950325      0  35   81  10  24  18  24  17  29  21   \n",
      "68         0        24  19950328      1  37   76   8  21  20  30  12  29  22   \n",
      "69         0         9  19950330      1  44   93   4  19  16  27  21  37  35   \n",
      "70         0        13  19950331      0  44   91   6  17  13  24  16  26  24   \n",
      "71         0        20  19950402      0  32   79   5  20  14  23   9  29  14   \n",
      "72         0         5  19950405      1  39   77   4  15  14  18   9  26  21   \n",
      "73         0        11  19950407      1  37   84  12  27  16  27  12  27  24   \n",
      "74         0        16  19950409      0  39   81   6  17  15  20  16  30  25   \n",
      "75         0        22  19950411      1  36   84   6  13  32  46  17  26  22   \n",
      "76         0        29  19950412      1  36   74   5  12  13  16   8  31  16   \n",
      "77         0         5  19950414      0  29   67   6  21   6   8   4  25  19   \n",
      "78         0         3  19950416      1  36   82   9  23  13  14  10  30  20   \n",
      "79         0         2  19950419      1  38   87   7  24  21  31  10  27  22   \n",
      "80         0         8  19950421      1  47   91   7  24  27  39  14  32  27   \n",
      "81         0        11  19950423      0  27   74   6  26  27  42  13  30  18   \n",
      "82         0        11  19950427      0  29   77   8  22  16  22  18  27  15   \n",
      "83         0        11  19950429      0  28   74   8  22  33  43   9  26  13   \n",
      "84         0        11  19950502      0  32   76   6  23  19  28  10  27  16   \n",
      "\n",
      "   STL BLK TOV  PF  PTS  \n",
      "0   11   8  13  28   92  \n",
      "1    8   9  21  24  109  \n",
      "2    7   4  13  23   86  \n",
      "3    7   6  13  23  102  \n",
      "4   10   5  17  23  108  \n",
      "5   10   4  17  28   97  \n",
      "6    9   9  11  24  110  \n",
      "7   10   4  18  26   93  \n",
      "8    5   4  17  22   79  \n",
      "9    8   1  15  23  102  \n",
      "10  12   6  15  18   89  \n",
      "11  11   4  20  21   87  \n",
      "12  10   3  10  19   85  \n",
      "13   9   2  16  23   92  \n",
      "14  11   3  15  22  107  \n",
      "15  11   7  15  23   94  \n",
      "16   8   5  15  19   80  \n",
      "17  12   5  15  27   89  \n",
      "18   2   5  15  22   98  \n",
      "19   8   4  20  19   85  \n",
      "20   9   1  14  26   79  \n",
      "21   9   5  18  24   80  \n",
      "22   6   1  17  27   85  \n",
      "23   7   7  16  21  115  \n",
      "24   6   7  14  18   94  \n",
      "25   9   6  10  20   97  \n",
      "26   7   4  13  21   93  \n",
      "27  10   6  12  30  127  \n",
      "28   9   8  14  22   85  \n",
      "29   5   5  12  27   98  \n",
      "..  ..  ..  ..  ..  ...  \n",
      "55   3   3  13  23   93  \n",
      "56  13   6  14  15   94  \n",
      "57  10   4  11  29  111  \n",
      "58   9   6  18  23   99  \n",
      "59  12   2  15  17  108  \n",
      "60   7   3  12  19  104  \n",
      "61   8   1  10  14   86  \n",
      "62  10   8  17  25   86  \n",
      "63   8   4  11  32  122  \n",
      "64   7   2  13  21  106  \n",
      "65  10   3   6  16   84  \n",
      "66   6   7  18  19   74  \n",
      "67   4   4  15  19   98  \n",
      "68   8   7  13  19  102  \n",
      "69  12   6  18  27  108  \n",
      "70   7   9  13  20  107  \n",
      "71  15   5  19  16   83  \n",
      "72  11   6  11  22   96  \n",
      "73  13   4  13  23  102  \n",
      "74  11   1  20  29   99  \n",
      "75  11  10  12  29  110  \n",
      "76  11   5  20  15   90  \n",
      "77   8   6  13  17   70  \n",
      "78  10   2  12  23   94  \n",
      "79   5   2   6  21  104  \n",
      "80   7   4   8  16  128  \n",
      "81  11   7  19  32   87  \n",
      "82   7   4  16  22   82  \n",
      "83  10   4  10  36   97  \n",
      "84   8   0  11  27   89  \n",
      "\n",
      "[85 rows x 18 columns]\n"
     ]
    }
   ],
   "source": [
    "print(df)"
   ]
  }
 ],
 "metadata": {
  "colab": {
   "collapsed_sections": [],
   "default_view": {},
   "name": "Untitled0.ipynb",
   "provenance": [],
   "version": "0.3.2",
   "views": {}
  },
  "kernelspec": {
   "display_name": "Python 3",
   "language": "python",
   "name": "python3"
  },
  "language_info": {
   "codemirror_mode": {
    "name": "ipython",
    "version": 3
   },
   "file_extension": ".py",
   "mimetype": "text/x-python",
   "name": "python",
   "nbconvert_exporter": "python",
   "pygments_lexer": "ipython3",
   "version": "3.6.4"
  }
 },
 "nbformat": 4,
 "nbformat_minor": 1
}
